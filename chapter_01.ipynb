{
  "nbformat": 4,
  "nbformat_minor": 0,
  "metadata": {
    "colab": {
      "provenance": [],
      "authorship_tag": "ABX9TyNhhfQqylj1aht6lJ145Jke",
      "include_colab_link": true
    },
    "kernelspec": {
      "name": "ir",
      "display_name": "R"
    },
    "language_info": {
      "name": "R"
    }
  },
  "cells": [
    {
      "cell_type": "markdown",
      "metadata": {
        "id": "view-in-github",
        "colab_type": "text"
      },
      "source": [
        "<a href=\"https://colab.research.google.com/github/lukmanaj/biostats_practice/blob/main/chapter_01.ipynb\" target=\"_parent\"><img src=\"https://colab.research.google.com/assets/colab-badge.svg\" alt=\"Open In Colab\"/></a>"
      ]
    },
    {
      "cell_type": "markdown",
      "source": [
        "# Question 1\n",
        "\n",
        "Self‐reported injuries among left‐ and right‐handed people were compared in a\n",
        "survey of 1986 college students in British Columbia, Canada. Of the 180 left‐\n",
        "handed students, 93 reported at least one injury, and 619 of the 1716 right‐\n",
        "handed students reported at least one injury in the same period. Arrange the\n",
        "data in a 2 × 2 table and calculate the proportion of people with at least one\n",
        "injury during the period of observation for each group."
      ],
      "metadata": {
        "id": "HytDIvt1P1TB"
      }
    },
    {
      "cell_type": "code",
      "source": [
        "library(tidyverse)"
      ],
      "metadata": {
        "colab": {
          "base_uri": "https://localhost:8080/"
        },
        "id": "42mzd7Fcs7K9",
        "outputId": "97861f8b-ac41-4144-cd96-d57d23eda4c2"
      },
      "execution_count": null,
      "outputs": [
        {
          "output_type": "stream",
          "name": "stderr",
          "text": [
            "── \u001b[1mAttaching core tidyverse packages\u001b[22m ──────────────────────── tidyverse 2.0.0 ──\n",
            "\u001b[32m✔\u001b[39m \u001b[34mdplyr    \u001b[39m 1.1.4     \u001b[32m✔\u001b[39m \u001b[34mreadr    \u001b[39m 2.1.5\n",
            "\u001b[32m✔\u001b[39m \u001b[34mforcats  \u001b[39m 1.0.0     \u001b[32m✔\u001b[39m \u001b[34mstringr  \u001b[39m 1.5.1\n",
            "\u001b[32m✔\u001b[39m \u001b[34mggplot2  \u001b[39m 3.5.1     \u001b[32m✔\u001b[39m \u001b[34mtibble   \u001b[39m 3.2.1\n",
            "\u001b[32m✔\u001b[39m \u001b[34mlubridate\u001b[39m 1.9.4     \u001b[32m✔\u001b[39m \u001b[34mtidyr    \u001b[39m 1.3.1\n",
            "\u001b[32m✔\u001b[39m \u001b[34mpurrr    \u001b[39m 1.0.2     \n",
            "── \u001b[1mConflicts\u001b[22m ────────────────────────────────────────── tidyverse_conflicts() ──\n",
            "\u001b[31m✖\u001b[39m \u001b[34mdplyr\u001b[39m::\u001b[32mfilter()\u001b[39m masks \u001b[34mstats\u001b[39m::filter()\n",
            "\u001b[31m✖\u001b[39m \u001b[34mdplyr\u001b[39m::\u001b[32mlag()\u001b[39m    masks \u001b[34mstats\u001b[39m::lag()\n",
            "\u001b[36mℹ\u001b[39m Use the conflicted package (\u001b[3m\u001b[34m<http://conflicted.r-lib.org/>\u001b[39m\u001b[23m) to force all conflicts to become errors\n"
          ]
        }
      ]
    },
    {
      "cell_type": "code",
      "execution_count": null,
      "metadata": {
        "colab": {
          "base_uri": "https://localhost:8080/",
          "height": 161
        },
        "id": "tnfwJQvZPyNL",
        "outputId": "c6e0e7bd-e18c-4410-a790-9e1066ab775d"
      },
      "outputs": [
        {
          "output_type": "display_data",
          "data": {
            "text/html": [
              "<table class=\"dataframe\">\n",
              "<caption>A tibble: 2 × 5</caption>\n",
              "<thead>\n",
              "\t<tr><th scope=col>Handedness</th><th scope=col>Total</th><th scope=col>Injuries</th><th scope=col>No_Injuries</th><th scope=col>Proportion_Injuries</th></tr>\n",
              "\t<tr><th scope=col>&lt;chr&gt;</th><th scope=col>&lt;dbl&gt;</th><th scope=col>&lt;dbl&gt;</th><th scope=col>&lt;dbl&gt;</th><th scope=col>&lt;dbl&gt;</th></tr>\n",
              "</thead>\n",
              "<tbody>\n",
              "\t<tr><td>Left-handed </td><td> 180</td><td> 93</td><td>  87</td><td>0.5166667</td></tr>\n",
              "\t<tr><td>Right-handed</td><td>1716</td><td>619</td><td>1097</td><td>0.3607226</td></tr>\n",
              "</tbody>\n",
              "</table>\n"
            ],
            "text/markdown": "\nA tibble: 2 × 5\n\n| Handedness &lt;chr&gt; | Total &lt;dbl&gt; | Injuries &lt;dbl&gt; | No_Injuries &lt;dbl&gt; | Proportion_Injuries &lt;dbl&gt; |\n|---|---|---|---|---|\n| Left-handed  |  180 |  93 |   87 | 0.5166667 |\n| Right-handed | 1716 | 619 | 1097 | 0.3607226 |\n\n",
            "text/latex": "A tibble: 2 × 5\n\\begin{tabular}{lllll}\n Handedness & Total & Injuries & No\\_Injuries & Proportion\\_Injuries\\\\\n <chr> & <dbl> & <dbl> & <dbl> & <dbl>\\\\\n\\hline\n\t Left-handed  &  180 &  93 &   87 & 0.5166667\\\\\n\t Right-handed & 1716 & 619 & 1097 & 0.3607226\\\\\n\\end{tabular}\n",
            "text/plain": [
              "  Handedness   Total Injuries No_Injuries Proportion_Injuries\n",
              "1 Left-handed   180   93        87        0.5166667          \n",
              "2 Right-handed 1716  619      1097        0.3607226          "
            ]
          },
          "metadata": {}
        }
      ],
      "source": [
        "# Define the data\n",
        "data <- tibble(\n",
        "  Handedness = c(\"Left-handed\", \"Right-handed\"),\n",
        "  Total = c(180, 1716),\n",
        "  Injuries = c(93, 619),\n",
        "  No_Injuries = c(180 - 93, 1716 - 619)\n",
        ")\n",
        "\n",
        "# Add proportions\n",
        "data <- data |>\n",
        "  mutate(\n",
        "    Proportion_Injuries = Injuries / Total\n",
        "  )\n",
        "\n",
        "data\n"
      ]
    },
    {
      "cell_type": "code",
      "source": [
        "# Display the proportion of injuries for each group\n",
        "data |>\n",
        "  select(Handedness, Proportion_Injuries)\n"
      ],
      "metadata": {
        "colab": {
          "base_uri": "https://localhost:8080/",
          "height": 161
        },
        "id": "TZZDWQSnQgdF",
        "outputId": "337a39d1-554c-4f3d-bfbe-b02e9a4a833c"
      },
      "execution_count": null,
      "outputs": [
        {
          "output_type": "display_data",
          "data": {
            "text/html": [
              "<table class=\"dataframe\">\n",
              "<caption>A tibble: 2 × 2</caption>\n",
              "<thead>\n",
              "\t<tr><th scope=col>Handedness</th><th scope=col>Proportion_Injuries</th></tr>\n",
              "\t<tr><th scope=col>&lt;chr&gt;</th><th scope=col>&lt;dbl&gt;</th></tr>\n",
              "</thead>\n",
              "<tbody>\n",
              "\t<tr><td>Left-handed </td><td>0.5166667</td></tr>\n",
              "\t<tr><td>Right-handed</td><td>0.3607226</td></tr>\n",
              "</tbody>\n",
              "</table>\n"
            ],
            "text/markdown": "\nA tibble: 2 × 2\n\n| Handedness &lt;chr&gt; | Proportion_Injuries &lt;dbl&gt; |\n|---|---|\n| Left-handed  | 0.5166667 |\n| Right-handed | 0.3607226 |\n\n",
            "text/latex": "A tibble: 2 × 2\n\\begin{tabular}{ll}\n Handedness & Proportion\\_Injuries\\\\\n <chr> & <dbl>\\\\\n\\hline\n\t Left-handed  & 0.5166667\\\\\n\t Right-handed & 0.3607226\\\\\n\\end{tabular}\n",
            "text/plain": [
              "  Handedness   Proportion_Injuries\n",
              "1 Left-handed  0.5166667          \n",
              "2 Right-handed 0.3607226          "
            ]
          },
          "metadata": {}
        }
      ]
    },
    {
      "cell_type": "markdown",
      "source": [
        "# Question 2\n",
        "\n",
        "A study was conducted to evaluate the hypothesis that tea consumption and\n",
        "premenstrual syndrome are associated. A group of 188 nursing students and\n",
        "64 tea factory workers were given questionnaires. The prevalence of\n",
        "premenstrual syndrome was 39% among the nursing students and 77% among\n",
        "the tea factory workers. How many people in each group have premenstrual\n",
        "syndrome? Arrange the data in a 2 × 2 table."
      ],
      "metadata": {
        "id": "Pxdecfk3Q1Qg"
      }
    },
    {
      "cell_type": "code",
      "source": [
        "# Define the data\n",
        "data <- tibble(\n",
        "  Group = c(\"Nursing Students\", \"Tea Factory Workers\"),\n",
        "  Total = c(188, 64),\n",
        "  Prevalence = c(0.39, 0.77)\n",
        ")\n",
        "\n",
        "# Calculate the number with and without PMS\n",
        "data <- data |>\n",
        "  mutate(\n",
        "    With_PMS = round(Prevalence * Total),\n",
        "    Without_PMS = Total - With_PMS\n",
        "  )\n",
        "\n",
        "# Arrange data in a 2x2 table\n",
        "table_2x2 <- data |>\n",
        "  select(Group, With_PMS, Without_PMS)\n",
        "\n",
        "# Print the 2x2 table\n",
        "table_2x2"
      ],
      "metadata": {
        "colab": {
          "base_uri": "https://localhost:8080/",
          "height": 161
        },
        "id": "zZSjBnH_Qtb6",
        "outputId": "15eda7b5-f2f1-4c53-aed8-ddd4111a35dc"
      },
      "execution_count": null,
      "outputs": [
        {
          "output_type": "display_data",
          "data": {
            "text/html": [
              "<table class=\"dataframe\">\n",
              "<caption>A tibble: 2 × 3</caption>\n",
              "<thead>\n",
              "\t<tr><th scope=col>Group</th><th scope=col>With_PMS</th><th scope=col>Without_PMS</th></tr>\n",
              "\t<tr><th scope=col>&lt;chr&gt;</th><th scope=col>&lt;dbl&gt;</th><th scope=col>&lt;dbl&gt;</th></tr>\n",
              "</thead>\n",
              "<tbody>\n",
              "\t<tr><td>Nursing Students   </td><td>73</td><td>115</td></tr>\n",
              "\t<tr><td>Tea Factory Workers</td><td>49</td><td> 15</td></tr>\n",
              "</tbody>\n",
              "</table>\n"
            ],
            "text/markdown": "\nA tibble: 2 × 3\n\n| Group &lt;chr&gt; | With_PMS &lt;dbl&gt; | Without_PMS &lt;dbl&gt; |\n|---|---|---|\n| Nursing Students    | 73 | 115 |\n| Tea Factory Workers | 49 |  15 |\n\n",
            "text/latex": "A tibble: 2 × 3\n\\begin{tabular}{lll}\n Group & With\\_PMS & Without\\_PMS\\\\\n <chr> & <dbl> & <dbl>\\\\\n\\hline\n\t Nursing Students    & 73 & 115\\\\\n\t Tea Factory Workers & 49 &  15\\\\\n\\end{tabular}\n",
            "text/plain": [
              "  Group               With_PMS Without_PMS\n",
              "1 Nursing Students    73       115        \n",
              "2 Tea Factory Workers 49        15        "
            ]
          },
          "metadata": {}
        }
      ]
    },
    {
      "cell_type": "markdown",
      "source": [
        "# Question 3"
      ],
      "metadata": {
        "id": "3-wfaNpCRhou"
      }
    },
    {
      "cell_type": "markdown",
      "source": [
        "The relationship between prior condom use and tubal pregnancy was assessed in a population-based case-control study at Group Health Cooperative of Puget Sound during 1981–1986. The results are shown in Table E1.3.\n",
        "\n",
        "**Question:** Compute the group size and the proportion of subjects in each group who never used condoms.\n",
        "\n",
        "**Table E1.3**\n",
        "\n",
        "| Condom Use | Cases | Controls |\n",
        "|------------|-------|----------|\n",
        "| Never      | 176   | 488      |\n",
        "| Always     | 51    | 186      |"
      ],
      "metadata": {
        "id": "KzTbZJ8YqKFB"
      }
    },
    {
      "cell_type": "code",
      "source": [
        "# Load the necessary library\n",
        "library(tidyverse)\n",
        "\n",
        "# Define the data\n",
        "data <- tibble(\n",
        "  Condom_Use = c(\"Never\", \"Always\"),\n",
        "  Cases = c(176, 51),\n",
        "  Controls = c(488, 186)\n",
        ")\n",
        "\n",
        "# Compute the group totals\n",
        "group_totals <- data |>\n",
        "  summarise(\n",
        "    Total_Cases = sum(Cases),\n",
        "    Total_Controls = sum(Controls)\n",
        "  )\n",
        "\n",
        "group_totals"
      ],
      "metadata": {
        "colab": {
          "base_uri": "https://localhost:8080/",
          "height": 129
        },
        "id": "AF7EX1NnRWWb",
        "outputId": "218001b9-e36c-4050-93f0-d741b5fa6561"
      },
      "execution_count": null,
      "outputs": [
        {
          "output_type": "display_data",
          "data": {
            "text/html": [
              "<table class=\"dataframe\">\n",
              "<caption>A tibble: 1 × 2</caption>\n",
              "<thead>\n",
              "\t<tr><th scope=col>Total_Cases</th><th scope=col>Total_Controls</th></tr>\n",
              "\t<tr><th scope=col>&lt;dbl&gt;</th><th scope=col>&lt;dbl&gt;</th></tr>\n",
              "</thead>\n",
              "<tbody>\n",
              "\t<tr><td>227</td><td>674</td></tr>\n",
              "</tbody>\n",
              "</table>\n"
            ],
            "text/markdown": "\nA tibble: 1 × 2\n\n| Total_Cases &lt;dbl&gt; | Total_Controls &lt;dbl&gt; |\n|---|---|\n| 227 | 674 |\n\n",
            "text/latex": "A tibble: 1 × 2\n\\begin{tabular}{ll}\n Total\\_Cases & Total\\_Controls\\\\\n <dbl> & <dbl>\\\\\n\\hline\n\t 227 & 674\\\\\n\\end{tabular}\n",
            "text/plain": [
              "  Total_Cases Total_Controls\n",
              "1 227         674           "
            ]
          },
          "metadata": {}
        }
      ]
    },
    {
      "cell_type": "code",
      "source": [
        "# Add proportions for \"Never\" condom use\n",
        "data <- data |>\n",
        "  filter(Condom_Use == \"Never\") |>\n",
        "  mutate(\n",
        "    Proportion_Cases = Cases / group_totals$Total_Cases,\n",
        "    Proportion_Controls = Controls / group_totals$Total_Controls\n",
        "  )\n",
        "\n",
        "data\n"
      ],
      "metadata": {
        "colab": {
          "base_uri": "https://localhost:8080/",
          "height": 129
        },
        "id": "o68xCqNlSVO2",
        "outputId": "b80c97f1-4479-4fe1-bccc-8316b5d74728"
      },
      "execution_count": null,
      "outputs": [
        {
          "output_type": "display_data",
          "data": {
            "text/html": [
              "<table class=\"dataframe\">\n",
              "<caption>A tibble: 1 × 5</caption>\n",
              "<thead>\n",
              "\t<tr><th scope=col>Condom_Use</th><th scope=col>Cases</th><th scope=col>Controls</th><th scope=col>Proportion_Cases</th><th scope=col>Proportion_Controls</th></tr>\n",
              "\t<tr><th scope=col>&lt;chr&gt;</th><th scope=col>&lt;dbl&gt;</th><th scope=col>&lt;dbl&gt;</th><th scope=col>&lt;dbl&gt;</th><th scope=col>&lt;dbl&gt;</th></tr>\n",
              "</thead>\n",
              "<tbody>\n",
              "\t<tr><td>Never</td><td>176</td><td>488</td><td>0.7753304</td><td>0.7240356</td></tr>\n",
              "</tbody>\n",
              "</table>\n"
            ],
            "text/markdown": "\nA tibble: 1 × 5\n\n| Condom_Use &lt;chr&gt; | Cases &lt;dbl&gt; | Controls &lt;dbl&gt; | Proportion_Cases &lt;dbl&gt; | Proportion_Controls &lt;dbl&gt; |\n|---|---|---|---|---|\n| Never | 176 | 488 | 0.7753304 | 0.7240356 |\n\n",
            "text/latex": "A tibble: 1 × 5\n\\begin{tabular}{lllll}\n Condom\\_Use & Cases & Controls & Proportion\\_Cases & Proportion\\_Controls\\\\\n <chr> & <dbl> & <dbl> & <dbl> & <dbl>\\\\\n\\hline\n\t Never & 176 & 488 & 0.7753304 & 0.7240356\\\\\n\\end{tabular}\n",
            "text/plain": [
              "  Condom_Use Cases Controls Proportion_Cases Proportion_Controls\n",
              "1 Never      176   488      0.7753304        0.7240356          "
            ]
          },
          "metadata": {}
        }
      ]
    },
    {
      "cell_type": "markdown",
      "source": [
        "# Question 4\n"
      ],
      "metadata": {
        "id": "Cr5ubQIvTbW9"
      }
    },
    {
      "cell_type": "markdown",
      "source": [
        "Epidemic keratoconjunctivitis (EKC) or “shipyard eye” is an acute infectious disease of the eye. A case of EKC is defined as an illness:\n",
        "- Consisting of redness, tearing, and pain in one or both eyes for more than three days’ duration;\n",
        "- Diagnosed as EKC by an ophthalmologist.\n",
        "\n",
        "In late October 1977, physician A (one of the two ophthalmologists providing the majority of specialized eye care to the residents of a central Georgia county; population 45,000) saw a nurse who had returned from a vacation in Korea with severe EKC. She received symptomatic therapy and was warned that her eye infection could spread to others; nevertheless, numerous cases of illness similar to hers soon occurred in the patients and staff of the nursing home (nursing home A) where she worked. Table E1.4 provides the exposure history of 22 persons with EKC between 27 October 1977 and 13 January 1978 (when the outbreak stopped after proper control techniques were initiated). Nursing home B, included in this table, is the only other area chronic-care facility.\n",
        "\n",
        "**Question:** Compute and compare the proportions of cases from the two nursing homes. What would be your conclusion?\n",
        "\n",
        "**Table E1.4**\n",
        "\n",
        "| Exposure Cohort | Number Exposed | Number of Cases |\n",
        "|-----------------|----------------|-----------------|\n",
        "| Nursing Home A  | 64             | 16              |\n",
        "| Nursing Home B  | 238            | 6               |\n",
        "\n",
        "---"
      ],
      "metadata": {
        "id": "0Qxs4JArpwcV"
      }
    },
    {
      "cell_type": "code",
      "source": [
        "data <- tibble(\n",
        "  exposure_cohort = c(\"Nursing home A\", \"Nursing home B\"),\n",
        "  number_exposed = c(64,238),\n",
        "  number_of_cases = c(16,6)\n",
        ")\n",
        "data"
      ],
      "metadata": {
        "colab": {
          "base_uri": "https://localhost:8080/",
          "height": 161
        },
        "id": "cllNYdgYSbgg",
        "outputId": "d60c777c-f5ec-444f-932e-d0b675e4f8dd"
      },
      "execution_count": null,
      "outputs": [
        {
          "output_type": "display_data",
          "data": {
            "text/html": [
              "<table class=\"dataframe\">\n",
              "<caption>A tibble: 2 × 3</caption>\n",
              "<thead>\n",
              "\t<tr><th scope=col>exposure_cohort</th><th scope=col>number_exposed</th><th scope=col>number_of_cases</th></tr>\n",
              "\t<tr><th scope=col>&lt;chr&gt;</th><th scope=col>&lt;dbl&gt;</th><th scope=col>&lt;dbl&gt;</th></tr>\n",
              "</thead>\n",
              "<tbody>\n",
              "\t<tr><td>Nursing home A</td><td> 64</td><td>16</td></tr>\n",
              "\t<tr><td>Nursing home B</td><td>238</td><td> 6</td></tr>\n",
              "</tbody>\n",
              "</table>\n"
            ],
            "text/markdown": "\nA tibble: 2 × 3\n\n| exposure_cohort &lt;chr&gt; | number_exposed &lt;dbl&gt; | number_of_cases &lt;dbl&gt; |\n|---|---|---|\n| Nursing home A |  64 | 16 |\n| Nursing home B | 238 |  6 |\n\n",
            "text/latex": "A tibble: 2 × 3\n\\begin{tabular}{lll}\n exposure\\_cohort & number\\_exposed & number\\_of\\_cases\\\\\n <chr> & <dbl> & <dbl>\\\\\n\\hline\n\t Nursing home A &  64 & 16\\\\\n\t Nursing home B & 238 &  6\\\\\n\\end{tabular}\n",
            "text/plain": [
              "  exposure_cohort number_exposed number_of_cases\n",
              "1 Nursing home A   64            16             \n",
              "2 Nursing home B  238             6             "
            ]
          },
          "metadata": {}
        }
      ]
    },
    {
      "cell_type": "code",
      "source": [
        "data |>\n",
        "  mutate(\n",
        "    prop_cases = number_of_cases/number_exposed\n",
        "  )"
      ],
      "metadata": {
        "colab": {
          "base_uri": "https://localhost:8080/",
          "height": 161
        },
        "id": "ipbo639WUHrr",
        "outputId": "c212e25f-8408-4544-9ce8-055814d8e389"
      },
      "execution_count": null,
      "outputs": [
        {
          "output_type": "display_data",
          "data": {
            "text/html": [
              "<table class=\"dataframe\">\n",
              "<caption>A tibble: 2 × 4</caption>\n",
              "<thead>\n",
              "\t<tr><th scope=col>exposure_cohort</th><th scope=col>number_exposed</th><th scope=col>number_of_cases</th><th scope=col>prop_cases</th></tr>\n",
              "\t<tr><th scope=col>&lt;chr&gt;</th><th scope=col>&lt;dbl&gt;</th><th scope=col>&lt;dbl&gt;</th><th scope=col>&lt;dbl&gt;</th></tr>\n",
              "</thead>\n",
              "<tbody>\n",
              "\t<tr><td>Nursing home A</td><td> 64</td><td>16</td><td>0.25000000</td></tr>\n",
              "\t<tr><td>Nursing home B</td><td>238</td><td> 6</td><td>0.02521008</td></tr>\n",
              "</tbody>\n",
              "</table>\n"
            ],
            "text/markdown": "\nA tibble: 2 × 4\n\n| exposure_cohort &lt;chr&gt; | number_exposed &lt;dbl&gt; | number_of_cases &lt;dbl&gt; | prop_cases &lt;dbl&gt; |\n|---|---|---|---|\n| Nursing home A |  64 | 16 | 0.25000000 |\n| Nursing home B | 238 |  6 | 0.02521008 |\n\n",
            "text/latex": "A tibble: 2 × 4\n\\begin{tabular}{llll}\n exposure\\_cohort & number\\_exposed & number\\_of\\_cases & prop\\_cases\\\\\n <chr> & <dbl> & <dbl> & <dbl>\\\\\n\\hline\n\t Nursing home A &  64 & 16 & 0.25000000\\\\\n\t Nursing home B & 238 &  6 & 0.02521008\\\\\n\\end{tabular}\n",
            "text/plain": [
              "  exposure_cohort number_exposed number_of_cases prop_cases\n",
              "1 Nursing home A   64            16              0.25000000\n",
              "2 Nursing home B  238             6              0.02521008"
            ]
          },
          "metadata": {}
        }
      ]
    },
    {
      "cell_type": "markdown",
      "source": [
        "The proportion of cases is more than ten times bigger for nursing home A than for nursing home B.\n"
      ],
      "metadata": {
        "id": "jziqCMCmVIl8"
      }
    },
    {
      "cell_type": "code",
      "source": [
        "prop_test <- prop.test(\n",
        "  x = data$number_of_cases,\n",
        "  n = data$number_exposed,\n",
        "  alternative = \"two.sided\"\n",
        ")\n",
        "prop_test"
      ],
      "metadata": {
        "colab": {
          "base_uri": "https://localhost:8080/",
          "height": 266
        },
        "id": "jlLTJ-fkVEV7",
        "outputId": "9babd81c-24db-438e-b45a-619b100d3542"
      },
      "execution_count": null,
      "outputs": [
        {
          "output_type": "stream",
          "name": "stderr",
          "text": [
            "Warning message in prop.test(x = data$number_of_cases, n = data$number_exposed, :\n",
            "“Chi-squared approximation may be incorrect”\n"
          ]
        },
        {
          "output_type": "display_data",
          "data": {
            "text/plain": [
              "\n",
              "\t2-sample test for equality of proportions with continuity correction\n",
              "\n",
              "data:  data$number_of_cases out of data$number_exposed\n",
              "X-squared = 34.48, df = 1, p-value = 4.308e-09\n",
              "alternative hypothesis: two.sided\n",
              "95 percent confidence interval:\n",
              " 0.1069371 0.3426427\n",
              "sample estimates:\n",
              "    prop 1     prop 2 \n",
              "0.25000000 0.02521008 \n"
            ]
          },
          "metadata": {}
        }
      ]
    },
    {
      "cell_type": "code",
      "source": [
        "# Define the contingency table\n",
        "contingency_table <- matrix(\n",
        "  c(16, 6, 64 - 16, 238 - 6),  # Cases and non-cases for both groups\n",
        "  nrow = 2,\n",
        "  byrow = TRUE\n",
        ")\n",
        "colnames(contingency_table) <- c(\"Cases\", \"Non-Cases\")\n",
        "rownames(contingency_table) <- c(\"Nursing Home A\", \"Nursing Home B\")\n",
        "\n",
        "# Perform Fisher's Exact Test\n",
        "fisher_test <- fisher.test(contingency_table, alternative = \"two.sided\")\n",
        "\n",
        "# Print the test results\n",
        "print(fisher_test)\n"
      ],
      "metadata": {
        "colab": {
          "base_uri": "https://localhost:8080/"
        },
        "id": "4GqJeLSmV9ye",
        "outputId": "2b04055d-8144-47b5-93a8-1c4ffb1aafa1"
      },
      "execution_count": null,
      "outputs": [
        {
          "output_type": "stream",
          "name": "stdout",
          "text": [
            "\n",
            "\tFisher's Exact Test for Count Data\n",
            "\n",
            "data:  contingency_table\n",
            "p-value = 8.445e-08\n",
            "alternative hypothesis: true odds ratio is not equal to 1\n",
            "95 percent confidence interval:\n",
            "  4.452899 41.850736\n",
            "sample estimates:\n",
            "odds ratio \n",
            "   12.7318 \n",
            "\n"
          ]
        }
      ]
    },
    {
      "cell_type": "code",
      "source": [
        "contingency_table"
      ],
      "metadata": {
        "colab": {
          "base_uri": "https://localhost:8080/",
          "height": 129
        },
        "id": "c7ctsf68WeU8",
        "outputId": "437293d6-6b55-4b4d-cd27-07e9698d5c38"
      },
      "execution_count": null,
      "outputs": [
        {
          "output_type": "display_data",
          "data": {
            "text/html": [
              "<table class=\"dataframe\">\n",
              "<caption>A matrix: 2 × 2 of type dbl</caption>\n",
              "<thead>\n",
              "\t<tr><th></th><th scope=col>Cases</th><th scope=col>Non-Cases</th></tr>\n",
              "</thead>\n",
              "<tbody>\n",
              "\t<tr><th scope=row>Nursing Home A</th><td>16</td><td>  6</td></tr>\n",
              "\t<tr><th scope=row>Nursing Home B</th><td>48</td><td>232</td></tr>\n",
              "</tbody>\n",
              "</table>\n"
            ],
            "text/markdown": "\nA matrix: 2 × 2 of type dbl\n\n| <!--/--> | Cases | Non-Cases |\n|---|---|---|\n| Nursing Home A | 16 |   6 |\n| Nursing Home B | 48 | 232 |\n\n",
            "text/latex": "A matrix: 2 × 2 of type dbl\n\\begin{tabular}{r|ll}\n  & Cases & Non-Cases\\\\\n\\hline\n\tNursing Home A & 16 &   6\\\\\n\tNursing Home B & 48 & 232\\\\\n\\end{tabular}\n",
            "text/plain": [
              "               Cases Non-Cases\n",
              "Nursing Home A 16      6      \n",
              "Nursing Home B 48    232      "
            ]
          },
          "metadata": {}
        }
      ]
    },
    {
      "cell_type": "markdown",
      "source": [
        "# Question 5\n"
      ],
      "metadata": {
        "id": "WP6V5_-FX4B0"
      }
    },
    {
      "cell_type": "markdown",
      "source": [
        "In August 1976, tuberculosis was diagnosed in a high school student (index case) in Corinth, Mississippi. Subsequently, laboratory studies revealed that the student’s disease was caused by drug-resistant tubercle bacilli. An epidemiologic investigation was conducted at the high school. Table E1.5 gives the rate of positive tuberculin reactions, determined for various groups of students according to the degree of exposure to the index case.\n",
        "\n",
        "**Questions:**\n",
        "1. Compute and compare the proportions of positive cases for the two exposure levels. What would be your conclusion?\n",
        "2. Calculate the odds ratio associated with high exposure. Does this result support your conclusion in part (1)?\n",
        "\n",
        "**Table E1.5**\n",
        "\n",
        "| Exposure Level | Number Tested | Number Positive |\n",
        "|----------------|---------------|-----------------|\n",
        "| High           | 129           | 63              |\n",
        "| Low            | 325           | 36              |\n",
        "\n",
        "---\n"
      ],
      "metadata": {
        "id": "FSppNVQ-pZ3d"
      }
    },
    {
      "cell_type": "code",
      "source": [
        "# Define the data\n",
        "data <- tibble(\n",
        "  exposure_level = c(\"High\", \"Low\"),\n",
        "  number_tested = c(129, 325),\n",
        "  number_positive = c(63, 36)\n",
        ")\n",
        "\n",
        "# Calculate proportions\n",
        "data <- data |>\n",
        "  mutate(\n",
        "    proportion_positive = number_positive / number_tested\n",
        "  )\n",
        "# Print the data with proportions\n",
        "data"
      ],
      "metadata": {
        "colab": {
          "base_uri": "https://localhost:8080/",
          "height": 161
        },
        "id": "3RaNROwIXPW2",
        "outputId": "37ccc5ec-e299-4738-90e5-671cd1af7718"
      },
      "execution_count": null,
      "outputs": [
        {
          "output_type": "display_data",
          "data": {
            "text/html": [
              "<table class=\"dataframe\">\n",
              "<caption>A tibble: 2 × 4</caption>\n",
              "<thead>\n",
              "\t<tr><th scope=col>exposure_level</th><th scope=col>number_tested</th><th scope=col>number_positive</th><th scope=col>proportion_positive</th></tr>\n",
              "\t<tr><th scope=col>&lt;chr&gt;</th><th scope=col>&lt;dbl&gt;</th><th scope=col>&lt;dbl&gt;</th><th scope=col>&lt;dbl&gt;</th></tr>\n",
              "</thead>\n",
              "<tbody>\n",
              "\t<tr><td>High</td><td>129</td><td>63</td><td>0.4883721</td></tr>\n",
              "\t<tr><td>Low </td><td>325</td><td>36</td><td>0.1107692</td></tr>\n",
              "</tbody>\n",
              "</table>\n"
            ],
            "text/markdown": "\nA tibble: 2 × 4\n\n| exposure_level &lt;chr&gt; | number_tested &lt;dbl&gt; | number_positive &lt;dbl&gt; | proportion_positive &lt;dbl&gt; |\n|---|---|---|---|\n| High | 129 | 63 | 0.4883721 |\n| Low  | 325 | 36 | 0.1107692 |\n\n",
            "text/latex": "A tibble: 2 × 4\n\\begin{tabular}{llll}\n exposure\\_level & number\\_tested & number\\_positive & proportion\\_positive\\\\\n <chr> & <dbl> & <dbl> & <dbl>\\\\\n\\hline\n\t High & 129 & 63 & 0.4883721\\\\\n\t Low  & 325 & 36 & 0.1107692\\\\\n\\end{tabular}\n",
            "text/plain": [
              "  exposure_level number_tested number_positive proportion_positive\n",
              "1 High           129           63              0.4883721          \n",
              "2 Low            325           36              0.1107692          "
            ]
          },
          "metadata": {}
        }
      ]
    },
    {
      "cell_type": "markdown",
      "source": [
        "Those with high exposure level have more positive cases as seen by the proportions"
      ],
      "metadata": {
        "id": "acPTsKeGY5Z_"
      }
    },
    {
      "cell_type": "code",
      "source": [
        "# Calculate the odds ratio using a contingency table\n",
        "contingency_table <- matrix(\n",
        "  c(63, 129 - 63, 36, 325 - 36),  # Positive and negative cases for each group\n",
        "  nrow = 2,\n",
        "  byrow = TRUE\n",
        ")\n",
        "rownames(contingency_table) <- c(\"High Exposure\", \"Low Exposure\")\n",
        "colnames(contingency_table) <- c(\"Positive\", \"Negative\")\n",
        "\n",
        "# Perform Fisher's Exact Test to calculate OR\n",
        "fisher_test <- fisher.test(contingency_table, alternative = \"two.sided\")\n",
        "\n",
        "# Print results\n",
        "print(fisher_test)\n"
      ],
      "metadata": {
        "colab": {
          "base_uri": "https://localhost:8080/"
        },
        "id": "O1QttvK3YmZG",
        "outputId": "b228c35f-8360-4d76-8e84-a2951022c6da"
      },
      "execution_count": null,
      "outputs": [
        {
          "output_type": "stream",
          "name": "stdout",
          "text": [
            "\n",
            "\tFisher's Exact Test for Count Data\n",
            "\n",
            "data:  contingency_table\n",
            "p-value < 2.2e-16\n",
            "alternative hypothesis: true odds ratio is not equal to 1\n",
            "95 percent confidence interval:\n",
            "  4.566232 12.884197\n",
            "sample estimates:\n",
            "odds ratio \n",
            "  7.616828 \n",
            "\n"
          ]
        }
      ]
    },
    {
      "cell_type": "markdown",
      "source": [
        "Yes, the result supports the conclusion."
      ],
      "metadata": {
        "id": "bBDByC9VaBXo"
      }
    },
    {
      "cell_type": "markdown",
      "source": [
        "# Question 6\n"
      ],
      "metadata": {
        "id": "Us6gQURArNSy"
      }
    },
    {
      "cell_type": "markdown",
      "source": [
        "Consider the data taken from a study that attempts to determine whether the use of electronic fetal monitoring (EFM) during labor affects the frequency of cesarean section deliveries. Of the 5,824 infants included in the study, 2,850 were electronically monitored and 2,974 were not. The outcomes are listed in Table E1.6.\n",
        "\n",
        "**Questions:**\n",
        "1. Compute and compare the proportions of cesarean delivery for the two exposure groups. What would be your conclusion?\n",
        "2. Calculate the odds ratio associated with EFM exposure. Does this result support your conclusion in part (1)?\n",
        "\n",
        "**Table E1.6**\n",
        "\n",
        "| Cesarean Delivery | EFM Exposure Yes | EFM Exposure No | Total |\n",
        "|-------------------|------------------|------------------|-------|\n",
        "| Yes               | 358              | 229              | 587   |\n",
        "| No                | 2,492            | 2,745            | 5,237 |\n",
        "| **Total**         | 2,850            | 2,974            | 5,824 |\n",
        "\n",
        "---\n",
        "\n"
      ],
      "metadata": {
        "id": "E9SzF577rPNi"
      }
    },
    {
      "cell_type": "code",
      "source": [
        "# Data for EFM Exposure\n",
        "efm_data <- tibble(\n",
        "  cesarean_delivery = c(\"Yes\", \"No\"),\n",
        "  efm_yes = c(358, 2492),\n",
        "  efm_no = c(229, 2745)\n",
        ")\n",
        "\n",
        "# Add totals\n",
        "efm_data <- efm_data |>\n",
        "  mutate(\n",
        "    total_yes = sum(efm_yes),\n",
        "    total_no = sum(efm_no)\n",
        "  )\n",
        "\n",
        "# Compute proportions\n",
        "efm_data <- efm_data |>\n",
        "  mutate(\n",
        "    prop_efm_yes = efm_yes / total_yes,\n",
        "    prop_efm_no = efm_no / total_no\n",
        "  )\n",
        "efm_data\n",
        "\n"
      ],
      "metadata": {
        "colab": {
          "base_uri": "https://localhost:8080/",
          "height": 161
        },
        "id": "PbRZs3tRZFxq",
        "outputId": "9cd7449b-9fde-4c70-88a1-592db6515b22"
      },
      "execution_count": null,
      "outputs": [
        {
          "output_type": "display_data",
          "data": {
            "text/html": [
              "<table class=\"dataframe\">\n",
              "<caption>A tibble: 2 × 7</caption>\n",
              "<thead>\n",
              "\t<tr><th scope=col>cesarean_delivery</th><th scope=col>efm_yes</th><th scope=col>efm_no</th><th scope=col>total_yes</th><th scope=col>total_no</th><th scope=col>prop_efm_yes</th><th scope=col>prop_efm_no</th></tr>\n",
              "\t<tr><th scope=col>&lt;chr&gt;</th><th scope=col>&lt;dbl&gt;</th><th scope=col>&lt;dbl&gt;</th><th scope=col>&lt;dbl&gt;</th><th scope=col>&lt;dbl&gt;</th><th scope=col>&lt;dbl&gt;</th><th scope=col>&lt;dbl&gt;</th></tr>\n",
              "</thead>\n",
              "<tbody>\n",
              "\t<tr><td>Yes</td><td> 358</td><td> 229</td><td>2850</td><td>2974</td><td>0.125614</td><td>0.07700067</td></tr>\n",
              "\t<tr><td>No </td><td>2492</td><td>2745</td><td>2850</td><td>2974</td><td>0.874386</td><td>0.92299933</td></tr>\n",
              "</tbody>\n",
              "</table>\n"
            ],
            "text/markdown": "\nA tibble: 2 × 7\n\n| cesarean_delivery &lt;chr&gt; | efm_yes &lt;dbl&gt; | efm_no &lt;dbl&gt; | total_yes &lt;dbl&gt; | total_no &lt;dbl&gt; | prop_efm_yes &lt;dbl&gt; | prop_efm_no &lt;dbl&gt; |\n|---|---|---|---|---|---|---|\n| Yes |  358 |  229 | 2850 | 2974 | 0.125614 | 0.07700067 |\n| No  | 2492 | 2745 | 2850 | 2974 | 0.874386 | 0.92299933 |\n\n",
            "text/latex": "A tibble: 2 × 7\n\\begin{tabular}{lllllll}\n cesarean\\_delivery & efm\\_yes & efm\\_no & total\\_yes & total\\_no & prop\\_efm\\_yes & prop\\_efm\\_no\\\\\n <chr> & <dbl> & <dbl> & <dbl> & <dbl> & <dbl> & <dbl>\\\\\n\\hline\n\t Yes &  358 &  229 & 2850 & 2974 & 0.125614 & 0.07700067\\\\\n\t No  & 2492 & 2745 & 2850 & 2974 & 0.874386 & 0.92299933\\\\\n\\end{tabular}\n",
            "text/plain": [
              "  cesarean_delivery efm_yes efm_no total_yes total_no prop_efm_yes prop_efm_no\n",
              "1 Yes                358     229   2850      2974     0.125614     0.07700067 \n",
              "2 No                2492    2745   2850      2974     0.874386     0.92299933 "
            ]
          },
          "metadata": {}
        }
      ]
    },
    {
      "cell_type": "code",
      "source": [
        "# Calculate odds for each group\n",
        "odds_efm_yes <- efm_data$efm_yes[1] / efm_data$efm_yes[2]\n",
        "odds_efm_no <- efm_data$efm_no[1] / efm_data$efm_no[2]\n",
        "\n",
        "# Calculate odds ratio\n",
        "odds_ratio_efm <- odds_efm_yes / odds_efm_no\n",
        "odds_ratio_efm"
      ],
      "metadata": {
        "colab": {
          "base_uri": "https://localhost:8080/",
          "height": 34
        },
        "id": "vrmLL1iMtL74",
        "outputId": "bb67c220-de5e-401e-ab80-0a5846cb14c2"
      },
      "execution_count": null,
      "outputs": [
        {
          "output_type": "display_data",
          "data": {
            "text/html": [
              "1.72203452795671"
            ],
            "text/markdown": "1.72203452795671",
            "text/latex": "1.72203452795671",
            "text/plain": [
              "[1] 1.722035"
            ]
          },
          "metadata": {}
        }
      ]
    },
    {
      "cell_type": "markdown",
      "source": [
        "A study was conducted to investigate the effectiveness of bicycle safety helmets in preventing head injury. The data consist of a random sample of 793 persons who were involved in bicycle accidents during a one-year period (Table E1.7).\n",
        "\n",
        "**Questions:**\n",
        "1. Compute and compare the proportions of head injury for the group with helmets versus the group without helmets. What would be your conclusion?\n",
        "2. Calculate the odds ratio associated with not using helmets. Does this result support your conclusion in part (1)?\n",
        "\n",
        "**Table E1.7**\n",
        "\n",
        "| Head Injury | Wearing Helmet Yes | Wearing Helmet No | Total |\n",
        "|-------------|---------------------|-------------------|-------|\n",
        "| Yes         | 17                  | 130               | 147   |\n",
        "| No          | 218                 | 428               | 646   |"
      ],
      "metadata": {
        "id": "4WMPZpEtrtew"
      }
    },
    {
      "cell_type": "code",
      "source": [
        "# Data for Helmet Use\n",
        "helmet_data <- tibble(\n",
        "  head_injury = c(\"Yes\", \"No\"),\n",
        "  helmet_yes = c(17, 218),\n",
        "  helmet_no = c(130, 428)\n",
        ")\n",
        "\n",
        "# Add totals\n",
        "helmet_data <- helmet_data |>\n",
        "  mutate(\n",
        "    total_yes = sum(helmet_yes),\n",
        "    total_no = sum(helmet_no)\n",
        "  )\n",
        "\n",
        "# Compute proportions\n",
        "helmet_data <- helmet_data |>\n",
        "  mutate(\n",
        "    prop_helmet_yes = helmet_yes / total_yes,\n",
        "    prop_helmet_no = helmet_no / total_no\n",
        "  )\n",
        "\n",
        "helmet_data\n",
        "\n"
      ],
      "metadata": {
        "colab": {
          "base_uri": "https://localhost:8080/",
          "height": 161
        },
        "id": "TqGbnLtQruTg",
        "outputId": "a11df112-9eee-4781-eccd-f665aa119933"
      },
      "execution_count": null,
      "outputs": [
        {
          "output_type": "display_data",
          "data": {
            "text/html": [
              "<table class=\"dataframe\">\n",
              "<caption>A tibble: 2 × 7</caption>\n",
              "<thead>\n",
              "\t<tr><th scope=col>head_injury</th><th scope=col>helmet_yes</th><th scope=col>helmet_no</th><th scope=col>total_yes</th><th scope=col>total_no</th><th scope=col>prop_helmet_yes</th><th scope=col>prop_helmet_no</th></tr>\n",
              "\t<tr><th scope=col>&lt;chr&gt;</th><th scope=col>&lt;dbl&gt;</th><th scope=col>&lt;dbl&gt;</th><th scope=col>&lt;dbl&gt;</th><th scope=col>&lt;dbl&gt;</th><th scope=col>&lt;dbl&gt;</th><th scope=col>&lt;dbl&gt;</th></tr>\n",
              "</thead>\n",
              "<tbody>\n",
              "\t<tr><td>Yes</td><td> 17</td><td>130</td><td>235</td><td>558</td><td>0.07234043</td><td>0.2329749</td></tr>\n",
              "\t<tr><td>No </td><td>218</td><td>428</td><td>235</td><td>558</td><td>0.92765957</td><td>0.7670251</td></tr>\n",
              "</tbody>\n",
              "</table>\n"
            ],
            "text/markdown": "\nA tibble: 2 × 7\n\n| head_injury &lt;chr&gt; | helmet_yes &lt;dbl&gt; | helmet_no &lt;dbl&gt; | total_yes &lt;dbl&gt; | total_no &lt;dbl&gt; | prop_helmet_yes &lt;dbl&gt; | prop_helmet_no &lt;dbl&gt; |\n|---|---|---|---|---|---|---|\n| Yes |  17 | 130 | 235 | 558 | 0.07234043 | 0.2329749 |\n| No  | 218 | 428 | 235 | 558 | 0.92765957 | 0.7670251 |\n\n",
            "text/latex": "A tibble: 2 × 7\n\\begin{tabular}{lllllll}\n head\\_injury & helmet\\_yes & helmet\\_no & total\\_yes & total\\_no & prop\\_helmet\\_yes & prop\\_helmet\\_no\\\\\n <chr> & <dbl> & <dbl> & <dbl> & <dbl> & <dbl> & <dbl>\\\\\n\\hline\n\t Yes &  17 & 130 & 235 & 558 & 0.07234043 & 0.2329749\\\\\n\t No  & 218 & 428 & 235 & 558 & 0.92765957 & 0.7670251\\\\\n\\end{tabular}\n",
            "text/plain": [
              "  head_injury helmet_yes helmet_no total_yes total_no prop_helmet_yes\n",
              "1 Yes          17        130       235       558      0.07234043     \n",
              "2 No          218        428       235       558      0.92765957     \n",
              "  prop_helmet_no\n",
              "1 0.2329749     \n",
              "2 0.7670251     "
            ]
          },
          "metadata": {}
        }
      ]
    },
    {
      "cell_type": "code",
      "source": [
        "# Calculate odds for each group\n",
        "odds_helmet_yes <- helmet_data$helmet_yes[1] / helmet_data$helmet_yes[2]\n",
        "odds_helmet_no <- helmet_data$helmet_no[1] / helmet_data$helmet_no[2]\n",
        "\n",
        "# Calculate odds ratio\n",
        "odds_ratio_helmet <- odds_helmet_yes / odds_helmet_no\n",
        "odds_ratio_helmet"
      ],
      "metadata": {
        "colab": {
          "base_uri": "https://localhost:8080/",
          "height": 34
        },
        "id": "6GRlke5VvjD-",
        "outputId": "4a442aac-9a69-4404-d8ba-dfb4050f88a1"
      },
      "execution_count": null,
      "outputs": [
        {
          "output_type": "display_data",
          "data": {
            "text/html": [
              "0.256739590684545"
            ],
            "text/markdown": "0.256739590684545",
            "text/latex": "0.256739590684545",
            "text/plain": [
              "[1] 0.2567396"
            ]
          },
          "metadata": {}
        }
      ]
    },
    {
      "cell_type": "code",
      "source": [],
      "metadata": {
        "id": "5Mhfj_xRwB2l"
      },
      "execution_count": null,
      "outputs": []
    }
  ]
}